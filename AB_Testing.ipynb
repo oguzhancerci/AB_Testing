{
 "cells": [
  {
   "cell_type": "markdown",
   "id": "d00b326d",
   "metadata": {},
   "source": [
    "#  <center><font color='#913175' size=7>A/B Testing</font></center>"
   ]
  },
  {
   "cell_type": "markdown",
   "id": "814125cb",
   "metadata": {},
   "source": [
    "***"
   ]
  },
  {
   "cell_type": "markdown",
   "id": "7f0424f7",
   "metadata": {},
   "source": [
    "# <div>\n",
    "<img src=\"https://www.omniconvert.com/wp-content/uploads/2019/10/new-hero-ab-testing-med.png\" width=\"500\"/>\n",
    "</div>"
   ]
  },
  {
   "cell_type": "markdown",
   "id": "89d60516",
   "metadata": {},
   "source": [
    "###  <font color='#913175' size=5>What is A/B Testing?</font>"
   ]
  },
  {
   "cell_type": "markdown",
   "id": "2a029c71",
   "metadata": {},
   "source": [
    "<font color='#13005A'>A/B testing is a user experience research methodology. From a Data Scientist’s perspective, A/B testing is a form of statistical hypothesis testing or a significance test.<br><br> A/B tests consist of a randomized experiment that usually involves two variants (A and B), although the concept can be also extended to multiple variants of the same variable. It includes application of statistical hypothesis testing or \"two-sample hypothesis testing\" as used in the field of statistics.<br><br> A/B testing is a way to compare multiple versions of a single variable, for example by testing a subject's response to variant A against variant B, and determining which of the variants is more effective. <br><br>It is prevalent in marketing and product development to optimize a website, mobile app UI, or other products to achieve a specific goal, such as increasing conversion rate, maximizing revenue, increasing sales, etc.</font>"
   ]
  },
  {
   "cell_type": "markdown",
   "id": "43bd1f9b",
   "metadata": {},
   "source": [
    "###  <font color='#913175' size=5>A/B Testing Need-to-Know Terms</font>"
   ]
  },
  {
   "cell_type": "markdown",
   "id": "7571494c",
   "metadata": {},
   "source": [
    "###  <font color='#13005A' size=4>Null hypothesis</font>\n",
    "<font color='#13005A'>The null hypothesis, or H0, posits that there is no difference between two variables. In A/B testing, the null hypothesis would assume that changing one variable on a web page (or marketing asset) would have no impact on user behavior.  </font>\n",
    "###  <font color='#13005A' size=4>Alternative hypothesis</font>\n",
    "<font color='#13005A'>Alternative hypothesis defines there is a statistically important relationship between two variables. We can also say that it is simply an alternative to the null</font>\n",
    "###  <font color='#13005A' size=4>Statistical significance</font>\n",
    "<font color='#13005A'>Statistical significance is meant to signify that the results of an A/B test are not due to chance (rejecting the null hypothesis). This is calculated by measuring the p-value, or probability value. So, if the p-value is low, it is saying that it’s unlikely the results of the A/B test were random. </font>\n",
    "###  <font color='#13005A' size=4>P-Value</font>\n",
    "<font color='#13005A'>P-value is the probability of obtaining given observations or results, given that the null hypothesis is true. If the p-value is less than the significance level (alpha level) that was set before the study, then the null hypothesis is rejected. A p-value of 0.05 or lower is generally considered statistically significant.</font>\n",
    "###  <font color='#13005A' size=4>Confidence level</font>\n",
    "<font color='#13005A'>Güven düzeyini p değerinin tersi olarak düşünün. Güven düzeyi, denemenizin sonuçlarının değişen değişkenden kaynaklanma olasılığının göstergesidir (yani, bu sonuçlar rastgele veya şans eseri değildir). Bir test, p-değeri %5 iken istatistiksel olarak anlamlı kabul edilirse, güven düzeyi %95 olur.</font>"
   ]
  },
  {
   "cell_type": "markdown",
   "id": "4517ca25",
   "metadata": {},
   "source": [
    "###  <font color='#913175' size=5>A/B Testing Process</font>"
   ]
  },
  {
   "cell_type": "markdown",
   "id": "1607076e",
   "metadata": {},
   "source": [
    "<font size=3 color='#13005A'><ol>\n",
    "    <li>Understanding business problem & data</li>\n",
    "    <li>Look summary stats</li>\n",
    "    <li>Detect and resolve problems in the data (Missing Value, Outliers, Unexpected Value)</li>\n",
    "    <li>Apply hypothesis testing and check assumptions</li>\n",
    "    <li>Check Normality & Homogeneity</li>\n",
    "    <li>Apply tests (Shapiro, Levene Test, T-Test, Welch Test, Mann Whitney U Test)</li>\n",
    "    <li>Evaluate the results</li>\n",
    "    <li>Recommend business decision</li>\n",
    "</ol></font>"
   ]
  },
  {
   "cell_type": "markdown",
   "id": "ea262c5c",
   "metadata": {},
   "source": [
    "###  <font color='#913175' size=5>Import Packages and Libraries</font>"
   ]
  },
  {
   "cell_type": "code",
   "execution_count": 140,
   "id": "11afc350",
   "metadata": {},
   "outputs": [],
   "source": [
    "import itertools\n",
    "import numpy as np\n",
    "import pandas as pd\n",
    "import matplotlib.pyplot as plt\n",
    "import seaborn as sns\n",
    "from colorama import Fore\n",
    "import scipy.stats as stats\n",
    "import statsmodels.stats.api as sms\n",
    "from scipy.stats import ttest_1samp, shapiro, levene, ttest_ind, mannwhitneyu, \\\n",
    "    pearsonr, spearmanr, kendalltau, f_oneway, kruskal\n",
    "from statsmodels.stats.proportion import proportions_ztest\n",
    "import warnings\n",
    "warnings.filterwarnings(\"ignore\")\n",
    "# !pip install statsmodels\n",
    "\n",
    "pd.set_option('display.max_columns', None)\n",
    "pd.set_option('display.max_rows', 10)\n",
    "pd.set_option('display.float_format', lambda x: '%.5f' % x)"
   ]
  },
  {
   "cell_type": "markdown",
   "id": "923b8c68",
   "metadata": {},
   "source": [
    "###  <font color='#913175' size=5>Load Data</font>"
   ]
  },
  {
   "cell_type": "code",
   "execution_count": 120,
   "id": "ab364b26",
   "metadata": {
    "scrolled": true
   },
   "outputs": [
    {
     "data": {
      "text/html": [
       "<div>\n",
       "<style scoped>\n",
       "    .dataframe tbody tr th:only-of-type {\n",
       "        vertical-align: middle;\n",
       "    }\n",
       "\n",
       "    .dataframe tbody tr th {\n",
       "        vertical-align: top;\n",
       "    }\n",
       "\n",
       "    .dataframe thead th {\n",
       "        text-align: right;\n",
       "    }\n",
       "</style>\n",
       "<table border=\"1\" class=\"dataframe\">\n",
       "  <thead>\n",
       "    <tr style=\"text-align: right;\">\n",
       "      <th></th>\n",
       "      <th>USER_ID</th>\n",
       "      <th>VARIANT_NAME</th>\n",
       "      <th>REVENUE</th>\n",
       "    </tr>\n",
       "  </thead>\n",
       "  <tbody>\n",
       "    <tr>\n",
       "      <th>0</th>\n",
       "      <td>737</td>\n",
       "      <td>variant</td>\n",
       "      <td>0.00000</td>\n",
       "    </tr>\n",
       "    <tr>\n",
       "      <th>1</th>\n",
       "      <td>2423</td>\n",
       "      <td>control</td>\n",
       "      <td>0.00000</td>\n",
       "    </tr>\n",
       "    <tr>\n",
       "      <th>2</th>\n",
       "      <td>9411</td>\n",
       "      <td>control</td>\n",
       "      <td>0.00000</td>\n",
       "    </tr>\n",
       "    <tr>\n",
       "      <th>3</th>\n",
       "      <td>7311</td>\n",
       "      <td>control</td>\n",
       "      <td>0.00000</td>\n",
       "    </tr>\n",
       "    <tr>\n",
       "      <th>4</th>\n",
       "      <td>6174</td>\n",
       "      <td>variant</td>\n",
       "      <td>0.00000</td>\n",
       "    </tr>\n",
       "  </tbody>\n",
       "</table>\n",
       "</div>"
      ],
      "text/plain": [
       "   USER_ID VARIANT_NAME  REVENUE\n",
       "0      737      variant  0.00000\n",
       "1     2423      control  0.00000\n",
       "2     9411      control  0.00000\n",
       "3     7311      control  0.00000\n",
       "4     6174      variant  0.00000"
      ]
     },
     "execution_count": 120,
     "metadata": {},
     "output_type": "execute_result"
    }
   ],
   "source": [
    "df = pd.read_csv('AB_Test_Results.csv')\n",
    "df.head()"
   ]
  },
  {
   "cell_type": "markdown",
   "id": "2f4de88a",
   "metadata": {},
   "source": [
    "<hr style=\"height:1px;border-width:0;color:#913175;background-color:#913175\">"
   ]
  },
  {
   "cell_type": "markdown",
   "id": "fffa21a7",
   "metadata": {},
   "source": [
    "<font color='#13005A' size=4>Business problem is to observe if there is a statistical difference in the revenues according to the variant and control groups.</font>"
   ]
  },
  {
   "cell_type": "markdown",
   "id": "89f833ef",
   "metadata": {},
   "source": [
    "<hr style=\"height:1px;border-width:0;color:#913175;background-color:#913175\">"
   ]
  },
  {
   "cell_type": "markdown",
   "id": "518eca72",
   "metadata": {},
   "source": [
    "###  <font color='#913175' size=5>Information About the Dataset</font>"
   ]
  },
  {
   "cell_type": "code",
   "execution_count": 23,
   "id": "32879c22",
   "metadata": {
    "scrolled": false
   },
   "outputs": [
    {
     "name": "stdout",
     "output_type": "stream",
     "text": [
      "\u001b[32m--------------------------------SHAPE --------------------------------\n",
      "\u001b[30mRows: 10000\n",
      "\u001b[30mColumns: 3\n",
      "\u001b[32m--------------------------------TYPES---------------------------------\n",
      "\u001b[30m USER_ID           int64\n",
      "VARIANT_NAME     object\n",
      "REVENUE         float64\n",
      "dtype: object\n",
      "\u001b[32m--------------------------- MISSING VALUES ---------------------------\n",
      "\u001b[30m USER_ID         0\n",
      "VARIANT_NAME    0\n",
      "REVENUE         0\n",
      "dtype: int64\n",
      "\u001b[32m------------------------- DUPLICATED VALUES --------------------------\n",
      "\u001b[30m 2067\n",
      "\u001b[32m------------------------------ DESCRIBE ------------------------------\n",
      "\u001b[30m               count       mean        std     min      0%        10%  \\\n",
      "USER_ID 10000.00000 4981.08020 2890.59011 2.00000 2.00000 1008.80000   \n",
      "REVENUE 10000.00000    0.09945    2.31853 0.00000 0.00000    0.00000   \n",
      "\n",
      "               20%        30%        40%        50%        60%        70%  \\\n",
      "USER_ID 1962.60000 2947.00000 3940.60000 4962.00000 5965.00000 6994.00000   \n",
      "REVENUE    0.00000    0.00000    0.00000    0.00000    0.00000    0.00000   \n",
      "\n",
      "               80%        90%        100%         max  \n",
      "USER_ID 8011.00000 8998.00000 10000.00000 10000.00000  \n",
      "REVENUE    0.00000    0.00000   196.01000   196.01000  \n"
     ]
    }
   ],
   "source": [
    "def info_df(dataframe, head=5):\n",
    "    print(Fore.GREEN +\"SHAPE \".center(70,'-'))\n",
    "    print(Fore.BLACK +'Rows:', dataframe.shape[0])\n",
    "    print(Fore.BLACK +'Columns:',dataframe.shape[1])\n",
    "    print(Fore.GREEN +'TYPES'.center(70, '-'))\n",
    "    print(Fore.BLACK, dataframe.dtypes)\n",
    "    print(Fore.GREEN +\" MISSING VALUES \".center(70,'-'))\n",
    "    print(Fore.BLACK, dataframe.isnull().sum())\n",
    "    print(Fore.GREEN +\" DUPLICATED VALUES \".center(70,'-'))\n",
    "    print(Fore.BLACK, dataframe.duplicated().sum())\n",
    "    print(Fore.GREEN +\" DESCRIBE \".center(70,'-'))\n",
    "    print(Fore.BLACK, dataframe.describe([0, 0.10, 0.20, 0.30, 0.40, 0.50, 0.60, 0.70, 0.80, 0.90, 1]).T)\n",
    "    \n",
    "info_df(df)"
   ]
  },
  {
   "cell_type": "markdown",
   "id": "8a5d8c7f",
   "metadata": {},
   "source": [
    "###  <font color='#913175' size=5>Data Cleaning and Outlier Extraction</font>"
   ]
  },
  {
   "cell_type": "code",
   "execution_count": 74,
   "id": "f4c01136",
   "metadata": {},
   "outputs": [
    {
     "name": "stdout",
     "output_type": "stream",
     "text": [
      "Total Rows: 10000\n",
      "Total Unique Users 6324\n"
     ]
    }
   ],
   "source": [
    "# Unique customer count\n",
    "print('Total Rows:',df.shape[0])\n",
    "print('Total Unique Users',df['USER_ID'].nunique())"
   ]
  },
  {
   "cell_type": "code",
   "execution_count": 121,
   "id": "35ba851e",
   "metadata": {},
   "outputs": [],
   "source": [
    "# Keeping users that belongs only 1 A/B test group\n",
    "counts = df.groupby(\"USER_ID\")[\"VARIANT_NAME\"].nunique()\n",
    "single_variant_ids = counts[counts == 1].index\n",
    "df = df[df[\"USER_ID\"].isin(single_variant_ids)]"
   ]
  },
  {
   "cell_type": "code",
   "execution_count": 122,
   "id": "2b0a1d13",
   "metadata": {},
   "outputs": [
    {
     "data": {
      "text/plain": [
       "(0.03979437295047475, 0.1743341278732485)"
      ]
     },
     "execution_count": 122,
     "metadata": {},
     "output_type": "execute_result"
    }
   ],
   "source": [
    "# Confidence interval for the 'REVENUE'\n",
    "sms.DescrStatsW(df[\"REVENUE\"]).tconfint_mean()"
   ]
  },
  {
   "cell_type": "code",
   "execution_count": 123,
   "id": "f1133d70",
   "metadata": {},
   "outputs": [
    {
     "data": {
      "image/png": "[encoded data removed]",
      "text/plain": [
       "<Figure size 2000x500 with 1 Axes>"
      ]
     },
     "metadata": {},
     "output_type": "display_data"
    }
   ],
   "source": [
    "# Before Outlier Exctraction\n",
    "def plot_revenue(dataframe, title):\n",
    "    control_revenue = dataframe.loc[dataframe['VARIANT_NAME'] == 'control', 'REVENUE']\n",
    "    variant_revenue = dataframe.loc[dataframe['VARIANT_NAME'] == 'variant', 'REVENUE']\n",
    "    plt.figure(figsize=(20, 5))\n",
    "    plt.plot(control_revenue, color='green', linewidth=2, label='control')\n",
    "    plt.plot(variant_revenue, color='orange', linewidth=2, label='variant')\n",
    "    plt.legend()\n",
    "    plt.title(title, fontsize=20)\n",
    "    plt.show()\n",
    "    \n",
    "plot_revenue(df, 'Before Outlier Exctraction')    "
   ]
  },
  {
   "cell_type": "code",
   "execution_count": 124,
   "id": "d3478e41",
   "metadata": {},
   "outputs": [],
   "source": [
    "# Replacing outliers with the low and up limits\n",
    "def outlier_thresholds(dataframe, variable):\n",
    "    quartile1 = dataframe[variable].quantile(0.01)\n",
    "    quartile3 = dataframe[variable].quantile(0.99)\n",
    "    interquantile_range = quartile3 - quartile1\n",
    "    up_limit = quartile3 + 1.5 * interquantile_range\n",
    "    low_limit = quartile1 - 1.5 * interquantile_range\n",
    "    return low_limit.round(), up_limit.round()\n",
    "\n",
    "\n",
    "def replace_with_thresholds(dataframe, variable):\n",
    "    low_limit, up_limit = outlier_thresholds(dataframe, variable)\n",
    "    dataframe.loc[(dataframe[variable] < low_limit), variable] = low_limit\n",
    "    dataframe.loc[(dataframe[variable] > up_limit), variable] = up_limit\n",
    "    \n",
    "replace_with_thresholds(df, \"REVENUE\")"
   ]
  },
  {
   "cell_type": "code",
   "execution_count": 125,
   "id": "0312e607",
   "metadata": {},
   "outputs": [
    {
     "data": {
      "text/plain": [
       "(0.03595388879674287, 0.05730476029716157)"
      ]
     },
     "execution_count": 125,
     "metadata": {},
     "output_type": "execute_result"
    }
   ],
   "source": [
    "# Confidence interval for the 'REVENUE'\n",
    "sms.DescrStatsW(df[\"REVENUE\"]).tconfint_mean()"
   ]
  },
  {
   "cell_type": "code",
   "execution_count": 127,
   "id": "2f6152af",
   "metadata": {
    "scrolled": true
   },
   "outputs": [
    {
     "data": {
      "image/png": "[encoded data removed]",
      "text/plain": [
       "<Figure size 2000x500 with 1 Axes>"
      ]
     },
     "metadata": {},
     "output_type": "display_data"
    }
   ],
   "source": [
    "# After Outlier Exctraction\n",
    "plot_revenue(df, 'After Outlier Exctraction')     "
   ]
  },
  {
   "cell_type": "markdown",
   "id": "ee5211d3",
   "metadata": {},
   "source": [
    "###  <font color='#913175' size=5>A/B Testing</font>"
   ]
  },
  {
   "cell_type": "markdown",
   "id": "51aaa093",
   "metadata": {},
   "source": [
    "**<font color='#13005A' size=4>Question:</font>**"
   ]
  },
  {
   "cell_type": "markdown",
   "id": "16a93afd",
   "metadata": {},
   "source": [
    "<font color='#13005A' size=4>Is there a significant difference between the average REVENUE of the control and variant groups ?</font>"
   ]
  },
  {
   "cell_type": "code",
   "execution_count": 175,
   "id": "5e3f3f8e",
   "metadata": {
    "scrolled": true
   },
   "outputs": [
    {
     "data": {
      "text/html": [
       "<div>\n",
       "<style scoped>\n",
       "    .dataframe tbody tr th:only-of-type {\n",
       "        vertical-align: middle;\n",
       "    }\n",
       "\n",
       "    .dataframe tbody tr th {\n",
       "        vertical-align: top;\n",
       "    }\n",
       "\n",
       "    .dataframe thead tr th {\n",
       "        text-align: left;\n",
       "    }\n",
       "</style>\n",
       "<table border=\"1\" class=\"dataframe\">\n",
       "  <thead>\n",
       "    <tr>\n",
       "      <th></th>\n",
       "      <th>VARIANT_NAME</th>\n",
       "      <th>REVENUE</th>\n",
       "    </tr>\n",
       "    <tr>\n",
       "      <th></th>\n",
       "      <th></th>\n",
       "      <th>sum</th>\n",
       "    </tr>\n",
       "  </thead>\n",
       "  <tbody>\n",
       "    <tr>\n",
       "      <th>0</th>\n",
       "      <td>control</td>\n",
       "      <td>165.06000</td>\n",
       "    </tr>\n",
       "    <tr>\n",
       "      <th>1</th>\n",
       "      <td>variant</td>\n",
       "      <td>117.98000</td>\n",
       "    </tr>\n",
       "  </tbody>\n",
       "</table>\n",
       "</div>"
      ],
      "text/plain": [
       "  VARIANT_NAME   REVENUE\n",
       "                     sum\n",
       "0      control 165.06000\n",
       "1      variant 117.98000"
      ]
     },
     "execution_count": 175,
     "metadata": {},
     "output_type": "execute_result"
    }
   ],
   "source": [
    "# Total revenue of control and variant groups\n",
    "df.groupby('VARIANT_NAME').agg({'REVENUE': ['sum']}).reset_index()"
   ]
  },
  {
   "cell_type": "markdown",
   "id": "8a378115",
   "metadata": {},
   "source": [
    "**<font color='#13005A' size=4>Hypothesis</font>**"
   ]
  },
  {
   "cell_type": "markdown",
   "id": "8e21cfe6",
   "metadata": {},
   "source": [
    "<font color='#13005A' size=4>H0: </font><font color='#13005A' size=3> No, there is no difference between population A and population B. (M1  = M2)</font><br>\n",
    "<font color='#13005A' size=4>H1: </font><font color='#13005A' size=3> Yes, there is a difference between population A and population B. (M1 ≠ M2)</font>"
   ]
  },
  {
   "cell_type": "markdown",
   "id": "0aadc9ad",
   "metadata": {},
   "source": [
    "# <div>\n",
    "<img src=\"https://miro.medium.com/v2/resize:fit:720/format:webp/1*LDhUu0BkB1QuOTxHmOs-cw.jpeg\" width=\"350\" align=\"left\"/>\n",
    "<img src=\"https://miro.medium.com/v2/resize:fit:720/format:webp/1*d5-m8289OkKti9rO7WVcdQ.jpeg\" width=\"500\" align=\"center\"/>\n",
    "\n",
    "</div>"
   ]
  },
  {
   "cell_type": "markdown",
   "id": "8c16d222",
   "metadata": {},
   "source": [
    "###  <font color='#13005A' size=4>Steps:</font><br>\n",
    "<font color='#13005A'><ol>\n",
    "    <li>Set up the Hypothesis</li>\n",
    "    H0: M1 = M2<br>\n",
    "    H1: M1 ≠ M2\n",
    "    <li>Normality Assumption</li>\n",
    "    H0: Distribution is Normal!<br>\n",
    "    H1: Distribution is not Normal!\n",
    "    <li>Homogeneity of Variances</li>\n",
    "    H0: Homogeneity<br>\n",
    "    H1: Heterogeneous\n",
    "    <li>Apply Parametric (ttest_ind) or Non-Parametric Test (Mann-Whitney U)</li>\n",
    "</ol></font>"
   ]
  },
  {
   "cell_type": "code",
   "execution_count": 174,
   "id": "f76b62f8",
   "metadata": {
    "scrolled": true
   },
   "outputs": [
    {
     "data": {
      "text/html": [
       "<div>\n",
       "<style scoped>\n",
       "    .dataframe tbody tr th:only-of-type {\n",
       "        vertical-align: middle;\n",
       "    }\n",
       "\n",
       "    .dataframe tbody tr th {\n",
       "        vertical-align: top;\n",
       "    }\n",
       "\n",
       "    .dataframe thead th {\n",
       "        text-align: right;\n",
       "    }\n",
       "</style>\n",
       "<table border=\"1\" class=\"dataframe\">\n",
       "  <thead>\n",
       "    <tr style=\"text-align: right;\">\n",
       "      <th></th>\n",
       "      <th>Test Type</th>\n",
       "      <th>Homogeneity of Variances</th>\n",
       "      <th>P-value</th>\n",
       "      <th>Result</th>\n",
       "      <th>Conclusion</th>\n",
       "    </tr>\n",
       "  </thead>\n",
       "  <tbody>\n",
       "    <tr>\n",
       "      <th>0</th>\n",
       "      <td>Non-Parametric</td>\n",
       "      <td>-</td>\n",
       "      <td>0.24485</td>\n",
       "      <td>Fail to reject H0</td>\n",
       "      <td>A/B groups are equal in distribution.</td>\n",
       "    </tr>\n",
       "  </tbody>\n",
       "</table>\n",
       "</div>"
      ],
      "text/plain": [
       "        Test Type Homogeneity of Variances  P-value             Result  \\\n",
       "0  Non-Parametric                        -  0.24485  Fail to reject H0   \n",
       "\n",
       "                              Conclusion  \n",
       "0  A/B groups are equal in distribution.  "
      ]
     },
     "execution_count": 174,
     "metadata": {},
     "output_type": "execute_result"
    }
   ],
   "source": [
    "def AB_Test(dataframe, group, target, A, B, alpha=0.05):\n",
    "    \n",
    "    # Split A/B\n",
    "    groupA = dataframe[dataframe[group] == A][target]\n",
    "    groupB = dataframe[dataframe[group] == B][target]\n",
    "    \n",
    "    # Normality assumption test\n",
    "    if shapiro(groupA)[1] > alpha and shapiro(groupB)[1] > alpha:\n",
    "        test_type = \"Parametric\"\n",
    "        \n",
    "        # Homogeneity of variances test\n",
    "        if levene(groupA, groupB)[1] > alpha:\n",
    "            # Heterogeneous\n",
    "            equal_var = False\n",
    "        else:\n",
    "            # Homogeneity\n",
    "            equal_var = True\n",
    "        \n",
    "        # Two-sample t-test\n",
    "        t_stat, p_value = stats.ttest_ind(groupA, groupB, equal_var=equal_var)\n",
    "        \n",
    "    else:\n",
    "        test_type = \"Non-Parametric\"\n",
    "        # Mann-Whitney U test\n",
    "        u_stat, p_value = stats.mannwhitneyu(groupA, groupB)\n",
    "        \n",
    "    # Result\n",
    "    if p_value < alpha:\n",
    "        result = \"Reject H0\"\n",
    "    else:\n",
    "        result = \"Fail to reject H0\"\n",
    "    \n",
    "    # Conclusion\n",
    "    if test_type == \"Parametric\":\n",
    "        if result == \"Reject H0\":\n",
    "            comment = \"A/B groups are significantly different.\"\n",
    "        else:\n",
    "            comment = \"A/B groups are not significantly different.\"\n",
    "    else:\n",
    "        if result == \"Reject H0\":\n",
    "            comment = \"A/B groups are not equal in distribution.\"\n",
    "        else:\n",
    "            comment = \"A/B groups are equal in distribution.\"\n",
    "    \n",
    "    # Output\n",
    "    output = pd.DataFrame({\n",
    "        \"Test Type\": [test_type],\n",
    "        \"Homogeneity of Variances\": [equal_var if test_type == \"Parametric\" else \"-\"],\n",
    "        \"P-value\": [p_value],\n",
    "        \"Result\": [result],\n",
    "        \"Conclusion\": [comment]\n",
    "    })\n",
    "    \n",
    "    return output\n",
    "\n",
    "# Apply A/B Testing\n",
    "\n",
    "AB_Test(df, \"VARIANT_NAME\", \"REVENUE\", 'control', 'variant')"
   ]
  },
  {
   "cell_type": "markdown",
   "id": "6ce38d24",
   "metadata": {},
   "source": [
    "###  <font color='#913175' size=5>Result</font>"
   ]
  },
  {
   "cell_type": "markdown",
   "id": "4a55bca6",
   "metadata": {},
   "source": [
    "<hr style=\"height:1px;border-width:0;color:#913175;background-color:#913175\">"
   ]
  },
  {
   "cell_type": "markdown",
   "id": "a8c6e847",
   "metadata": {},
   "source": [
    "<font color='#13005A' size=4>As a result, there is no statistically proven difference between the revenue of the control and variant groups.</font>"
   ]
  },
  {
   "cell_type": "markdown",
   "id": "f76f47cb",
   "metadata": {},
   "source": [
    "<hr style=\"height:1px;border-width:0;color:#913175;background-color:#913175\">"
   ]
  }
 ],
 "metadata": {
  "kernelspec": {
   "display_name": "Python 3 (ipykernel)",
   "language": "python",
   "name": "python3"
  },
  "language_info": {
   "codemirror_mode": {
    "name": "ipython",
    "version": 3
   },
   "file_extension": ".py",
   "mimetype": "text/x-python",
   "name": "python",
   "nbconvert_exporter": "python",
   "pygments_lexer": "ipython3",
   "version": "3.9.13"
  }
 },
 "nbformat": 4,
 "nbformat_minor": 5
}
